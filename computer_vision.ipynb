{
 "cells": [
  {
   "cell_type": "markdown",
   "id": "a90db1ba-6346-456c-b18f-a494c03a7eef",
   "metadata": {},
   "source": [
    "# Computer Vision\n",
    "\n",
    "<p>Computer vision(bilgisayar görüşü), bilgisayarların dijital görüntülerle çalışarak çevresel bilgileri anlama ve yorumlama yeteneği olarak tanımlanabilir. Bu alan, görüntü veya video verilerini işleyen algoritmalar ve sistemler geliştirmeyi içerir. Temel amaç, bilgiyarların görüntü verilerini anlamasını, nesneleri tanımasını, sahneleri anlamasını ve belki insan benzeri görme yeteneklerini taklit etmesini sağlamaktır.</p>\n",
    "<p>Computer vision, birçok farklı uygulama alanında kullanılabilir. Bunlar arasında:</p>\n",
    "<ol>\n",
    "<li><strong>Nesne Tanıma ve Sınıflandırma: </strong>Bilgisayarların görüntülerdeki nesneleri tanıması ve sınıflandırması. Örneğin, bir görüntüdeki arabaları, insanları veya evcil hayvanları tanıma.</li>\n",
    "<br>\n",
    "<li><strong>Yüz Tanıma: </strong>Görüntülerdeki insan yüzlerini tanıma ve hatta belirli bireyleri tanıma.</li>\n",
    "<br>\n",
    "<li><strong>Hareket Takibi: </strong>Video görüntülerindeki hareketli nesneleri takip etme ve analiz etme. Bu, güvenlik sistemlerinde, trafik izleme sistemlerinde ve oyunlarda kullanılabilir.</li>\n",
    "<br>\n",
    "<li><strong>Görüntü Düzenleme ve İyileştirme: </strong>Görüntülerdeki gürültüyü azaltma, keskinleştirme, renk düzeltme gibi işlemler yapma.</li>\n",
    "</ol>\n",
    "<p>Bunlar sadece birkaç örnek; computer vision teknolojileri daha birçok alanda yaygın olarak kullanılmaktadır.</p>"
   ]
  },
  {
   "cell_type": "markdown",
   "id": "bf8597a7-af19-4875-9ea5-9fb77b63b804",
   "metadata": {},
   "source": [
    "### 0- Kütüphanenin kurulumu"
   ]
  },
  {
   "cell_type": "code",
   "execution_count": 1,
   "id": "e8300d50-497c-42e1-ac2b-cc458bffa579",
   "metadata": {},
   "outputs": [],
   "source": [
    "#pip install opencv-python"
   ]
  },
  {
   "cell_type": "markdown",
   "id": "3a012d5b-7d9d-4b64-82fd-0539628cd9ab",
   "metadata": {},
   "source": [
    "### 1- Nesne Tanıma ve Sınıflandırma"
   ]
  },
  {
   "cell_type": "code",
   "execution_count": 1,
   "id": "16af5290-9980-42ea-86f9-c4266926ae24",
   "metadata": {},
   "outputs": [],
   "source": [
    "import cv2\n",
    "import numpy as np\n",
    "\n",
    "# Webcam'den görüntü almak için VideoCapture nesnesini başlatma\n",
    "cap = cv2.VideoCapture(0)\n",
    "\n",
    "while True:\n",
    "    # Kameradan bir kare al\n",
    "    ret, frame = cap.read()\n",
    "    \n",
    "    # Görüntüyü HSV renk uzayına dönüştürme\n",
    "    hsv = cv2.cvtColor(frame, cv2.COLOR_BGR2HSV)\n",
    "    \n",
    "    # Mavi renk için bir renk aralığı belirleme (örneğin, mavi bir top tespit etmek için)\n",
    "    lower_blue = np.array([90, 50, 50])\n",
    "    upper_blue = np.array([130, 255, 255])\n",
    "    \n",
    "    # Belirlenen renk aralığında maskeleme işlemi\n",
    "    mask = cv2.inRange(hsv, lower_blue, upper_blue)\n",
    "    \n",
    "    # Maske üzerinde kontur tespiti\n",
    "    contours, _ = cv2.findContours(mask, cv2.RETR_EXTERNAL, cv2.CHAIN_APPROX_SIMPLE)\n",
    "    \n",
    "    # Konturları çizme\n",
    "    if len(contours) > 0:\n",
    "        contour = max(contours, key=cv2.contourArea)\n",
    "        x, y, w, h = cv2.boundingRect(contour)\n",
    "        cv2.rectangle(frame, (x, y), (x + w, y + h), (0, 255, 0), 2)\n",
    "    \n",
    "    # Sonuçları gösterme\n",
    "    cv2.imshow('Object Detection', frame)\n",
    "    \n",
    "    # 'q' tuşuna basıldığında döngüyü sonlandırma\n",
    "    if cv2.waitKey(1) & 0xFF == ord('q'):\n",
    "        break\n",
    "\n",
    "# Video yakalama nesnesini ve pencereyi serbest bırakma\n",
    "cap.release()\n",
    "cv2.destroyAllWindows()\n"
   ]
  },
  {
   "cell_type": "markdown",
   "id": "474f1e1f-1f51-4097-b13b-2997d2f13464",
   "metadata": {},
   "source": [
    "### 2- Yüz Tanıma"
   ]
  },
  {
   "cell_type": "code",
   "execution_count": 2,
   "id": "3be2c9b7-6708-4de3-9ab5-215ce741fef0",
   "metadata": {},
   "outputs": [],
   "source": [
    "import cv2\n",
    "\n",
    "# Haar yüz sınıflandırıcısını yükleme\n",
    "face_cascade = cv2.CascadeClassifier(cv2.data.haarcascades + 'haarcascade_frontalface_default.xml')\n",
    "\n",
    "# Webcam'den görüntü almak için VideoCapture nesnesini başlatma\n",
    "cap = cv2.VideoCapture(0)\n",
    "\n",
    "while True:\n",
    "    # Kameradan bir kare al\n",
    "    ret, frame = cap.read()\n",
    "    \n",
    "    # Görüntüyü griye dönüştürme (hızlı işlem için)\n",
    "    gray = cv2.cvtColor(frame, cv2.COLOR_BGR2GRAY)\n",
    "    \n",
    "    # Yüzleri tespit etme\n",
    "    faces = face_cascade.detectMultiScale(gray, scaleFactor=1.1, minNeighbors=5, minSize=(30, 30))\n",
    "    \n",
    "    # Tespit edilen yüzlerin etrafına dikdörtgen çizme\n",
    "    for (x, y, w, h) in faces:\n",
    "        cv2.rectangle(frame, (x, y), (x+w, y+h), (255, 0, 0), 2)\n",
    "    \n",
    "    # Sonuçları gösterme\n",
    "    cv2.imshow('Face Detection', frame)\n",
    "    \n",
    "    # 'q' tuşuna basıldığında döngüyü sonlandırma\n",
    "    if cv2.waitKey(1) & 0xFF == ord('q'):\n",
    "        break\n",
    "\n",
    "# Video yakalama nesnesini ve pencereyi serbest bırakma\n",
    "cap.release()\n",
    "cv2.destroyAllWindows()"
   ]
  },
  {
   "cell_type": "markdown",
   "id": "1384bf1c-b05d-4ff2-a44b-0740b99eba31",
   "metadata": {},
   "source": [
    "### 3- Hareket Takibi"
   ]
  },
  {
   "cell_type": "code",
   "execution_count": 3,
   "id": "b265a851-406a-49c5-af2f-3e8cfaf6087f",
   "metadata": {},
   "outputs": [],
   "source": [
    "import cv2\n",
    "\n",
    "# Webcam'den görüntü almak için VideoCapture nesnesini başlatma\n",
    "cap = cv2.VideoCapture(0)\n",
    "\n",
    "# İlk kareyi okuma\n",
    "ret, frame1 = cap.read()\n",
    "# İlk kareyi gri tonlamaya dönüştürme\n",
    "gray1 = cv2.cvtColor(frame1, cv2.COLOR_BGR2GRAY)\n",
    "\n",
    "while True:\n",
    "    # Yeni bir kare okuma\n",
    "    ret, frame2 = cap.read()\n",
    "    # Yeni kareyi gri tonlamaya dönüştürme\n",
    "    gray2 = cv2.cvtColor(frame2, cv2.COLOR_BGR2GRAY)\n",
    "    \n",
    "    # Ardışık kareler arasındaki piksel farkını hesaplama\n",
    "    diff = cv2.absdiff(gray1, gray2)\n",
    "    # Piksel farkını eşikleme işlemi\n",
    "    _, thresh = cv2.threshold(diff, 30, 255, cv2.THRESH_BINARY)\n",
    "    # Gürültüyü azaltma için erozyon ve genişletme işlemleri\n",
    "    thresh = cv2.erode(thresh, None, iterations=2)\n",
    "    thresh = cv2.dilate(thresh, None, iterations=2)\n",
    "    \n",
    "    # Hareketli nesnelerin konturlarını bulma\n",
    "    contours, _ = cv2.findContours(thresh, cv2.RETR_EXTERNAL, cv2.CHAIN_APPROX_SIMPLE)\n",
    "    \n",
    "    # Hareketli nesnelerin etrafına dikdörtgen çizme\n",
    "    for contour in contours:\n",
    "        if cv2.contourArea(contour) > 1000:\n",
    "            x, y, w, h = cv2.boundingRect(contour)\n",
    "            cv2.rectangle(frame2, (x, y), (x+w, y+h), (0, 255, 0), 2)\n",
    "    \n",
    "    # Sonuçları gösterme\n",
    "    cv2.imshow('Motion Tracking', frame2)\n",
    "    \n",
    "    # Ardışık kareleri güncelleme\n",
    "    gray1 = gray2\n",
    "    \n",
    "    # 'q' tuşuna basıldığında döngüyü sonlandırma\n",
    "    if cv2.waitKey(1) & 0xFF == ord('q'):\n",
    "        break\n",
    "\n",
    "# Video yakalama nesnesini ve pencereyi serbest bırakma\n",
    "cap.release()\n",
    "cv2.destroyAllWindows()"
   ]
  },
  {
   "cell_type": "markdown",
   "id": "1a92668b",
   "metadata": {},
   "source": [
    "### 4- Görüntü Düzenleme ve İyileştirme"
   ]
  },
  {
   "cell_type": "code",
   "execution_count": 6,
   "id": "69edad32",
   "metadata": {},
   "outputs": [],
   "source": [
    "import cv2\n",
    "import numpy as np\n",
    "\n",
    "# Görüntüyü yükleme\n",
    "image = cv2.imread('bio_2.jpg')\n",
    "\n",
    "# Görüntüyü gri tonlamaya dönüştürme\n",
    "gray_image = cv2.cvtColor(image, cv2.COLOR_BGR2GRAY)\n",
    "\n",
    "# Görüntüyü yeniden boyutlandırma\n",
    "resized_image = cv2.resize(image, (500, 300))\n",
    "\n",
    "# Görüntüyü döndürme\n",
    "(h, w) = image.shape[:2]\n",
    "center = (w // 2, h // 2)\n",
    "rotation_matrix = cv2.getRotationMatrix2D(center, 45, 1.0)\n",
    "rotated_image = cv2.warpAffine(image, rotation_matrix, (w, h))\n",
    "\n",
    "# Görüntüyü aynalama\n",
    "flipped_image = cv2.flip(image, 1)\n",
    "\n",
    "# Görüntüyü bulanıklaştırma\n",
    "blurred_image = cv2.GaussianBlur(image, (15, 15), 0)\n",
    "\n",
    "# Görüntüyü HSV formatına dönüştürme\n",
    "hsv_img = cv2.cvtColor(image, cv2.COLOR_BGR2HSV)\n",
    "\n",
    "# Sonuçları görselleştirme\n",
    "cv2.imshow('Original Image', image)\n",
    "cv2.imshow('Gray Image', gray_image)\n",
    "cv2.imshow('Resized Image', resized_image)\n",
    "cv2.imshow('Rotated Image', rotated_image)\n",
    "cv2.imshow('Flipped Image', flipped_image)\n",
    "cv2.imshow('Blurred Image', blurred_image)\n",
    "cv2.imshow(\"HSV Tonlama\", hsv_img[:,:,:])\n",
    "cv2.imshow(\"Hue Kanali\", hsv_img[:,:,0])\n",
    "cv2.imshow(\"Saturation Kanali\", hsv_img[:,:,1])\n",
    "cv2.imshow(\"Value Kanali\", hsv_img[:,:,2])\n",
    "\n",
    "# 'q' tuşuna basıldığında döngüyü sonlandırma\n",
    "cv2.waitKey(0)\n",
    "cv2.destroyAllWindows()"
   ]
  },
  {
   "cell_type": "code",
   "execution_count": null,
   "id": "47659e6c",
   "metadata": {},
   "outputs": [],
   "source": []
  }
 ],
 "metadata": {
  "kernelspec": {
   "display_name": "Python 3 (ipykernel)",
   "language": "python",
   "name": "python3"
  },
  "language_info": {
   "codemirror_mode": {
    "name": "ipython",
    "version": 3
   },
   "file_extension": ".py",
   "mimetype": "text/x-python",
   "name": "python",
   "nbconvert_exporter": "python",
   "pygments_lexer": "ipython3",
   "version": "3.11.3"
  }
 },
 "nbformat": 4,
 "nbformat_minor": 5
}
